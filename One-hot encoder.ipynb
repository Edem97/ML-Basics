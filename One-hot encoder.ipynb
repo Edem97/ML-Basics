{
 "cells": [
  {
   "cell_type": "code",
   "execution_count": 1,
   "id": "ae0fec92",
   "metadata": {},
   "outputs": [],
   "source": [
    "import pandas as pd\n",
    "from sklearn.preprocessing import OneHotEncoder "
   ]
  },
  {
   "cell_type": "code",
   "execution_count": 2,
   "id": "877e368c",
   "metadata": {},
   "outputs": [
    {
     "name": "stdout",
     "output_type": "stream",
     "text": [
      "Employee data :\n",
      "   Employee ID Gender Remarks\n",
      "0           10      M    Good\n",
      "1           20      F    Nice\n",
      "2           15      F    Good\n",
      "3           25      M   Great\n",
      "4           30      F    Nice\n"
     ]
    }
   ],
   "source": [
    "# Building a dummy employee dataset \n",
    "data = {'Employee ID': [10, 20, 15, 25, 30], \n",
    "        'Gender':['M','F','F','M','F'], \n",
    "        'Remarks':['Good', 'Nice', 'Good','Great','Nice']}\n",
    "# Converting into Pandas Dataframe \n",
    "df = pd.DataFrame(data)\n",
    "# Print the data frame:\n",
    "print(f'Employee data :\\n{df}')"
   ]
  },
  {
   "cell_type": "code",
   "execution_count": 6,
   "id": "c940bb44",
   "metadata": {},
   "outputs": [
    {
     "name": "stdout",
     "output_type": "stream",
     "text": [
      "Encoded Employee data : \n",
      "   Employee ID  Gender_F  Gender_M  Remarks_Good  Remarks_Great  Remarks_Nice\n",
      "0           10       0.0       1.0           1.0            0.0           0.0\n",
      "1           20       1.0       0.0           0.0            0.0           1.0\n",
      "2           15       1.0       0.0           1.0            0.0           0.0\n",
      "3           25       0.0       1.0           0.0            1.0           0.0\n",
      "4           30       1.0       0.0           0.0            0.0           1.0\n"
     ]
    }
   ],
   "source": [
    "# Extract categorical columns from the data frame \n",
    "# Here we extract the the columns with object datatype as they are the categorical columns\n",
    "categorical_columns = df.select_dtypes(include = ['object']).columns.tolist()\n",
    "\n",
    "# Initialize OneHotEncoder \n",
    "encoder = OneHotEncoder(sparse = False)\n",
    "\n",
    "# Apply one-hot encoding to the categorical columns\n",
    "one_hot_encoded = encoder.fit_transform(df[categorical_columns])\n",
    "\n",
    "#Create new data frame with the one encoded columns \n",
    "# Use get_feature_names_out() to get the column names for the encoded data\n",
    "one_hot_df = pd.DataFrame(one_hot_encoded, columns = encoder.get_feature_names_out(categorical_columns))\n",
    "\n",
    "# Concatenate the one-hot encoded dataframe with the original dataframe \n",
    "df_encoded = pd.concat([df, one_hot_df], axis = 1)\n",
    "\n",
    "# Drop the original categorical columns \n",
    "df_encoded = df_encoded.drop(categorical_columns, axis = 1)\n",
    "\n",
    "# Display the resulting Dataframe \n",
    "print(f'Encoded Employee data : \\n{df_encoded}')"
   ]
  }
 ],
 "metadata": {
  "kernelspec": {
   "display_name": "base",
   "language": "python",
   "name": "python3"
  },
  "language_info": {
   "codemirror_mode": {
    "name": "ipython",
    "version": 3
   },
   "file_extension": ".py",
   "mimetype": "text/x-python",
   "name": "python",
   "nbconvert_exporter": "python",
   "pygments_lexer": "ipython3",
   "version": "3.9.13"
  }
 },
 "nbformat": 4,
 "nbformat_minor": 5
}
