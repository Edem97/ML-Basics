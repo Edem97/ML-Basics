{
 "cells": [
  {
   "cell_type": "code",
   "execution_count": 34,
   "id": "5371915f",
   "metadata": {},
   "outputs": [],
   "source": [
    "import numpy as np\n",
    "import matplotlib.pyplot as plt\n",
    "from sklearn.model_selection import train_test_split, KFold\n"
   ]
  },
  {
   "cell_type": "code",
   "execution_count": 35,
   "id": "ffb15522",
   "metadata": {},
   "outputs": [],
   "source": [
    "np.random.seed(0) #for reproducibility, making sure the same random numbers are initialized. "
   ]
  },
  {
   "cell_type": "code",
   "execution_count": 36,
   "id": "4e07476f",
   "metadata": {},
   "outputs": [],
   "source": [
    "#dogs: higher flappy index, lower whisker length \n",
    "dogs_whisker_length = np.random.normal(loc=5, scale = 1, size=10)\n",
    "dogs_ear_flappiness_index = np.random.normal(loc=8, scale = 1, size=10)"
   ]
  },
  {
   "cell_type": "code",
   "execution_count": 37,
   "id": "b2475d60",
   "metadata": {},
   "outputs": [],
   "source": [
    "#cats: lower ear flappy, higher whisker length \n",
    "cats_whisker_length = np.random.normal(loc=8, scale = 1, size=10)\n",
    "cats_ear_flappiness_index = np.random.normal(loc=5, scale = 1, size=10)"
   ]
  },
  {
   "cell_type": "code",
   "execution_count": 38,
   "id": "c3393323",
   "metadata": {},
   "outputs": [],
   "source": [
    "# prepare data for algorithm, putting the data into x and y coordinates by stacking the data together. Combining  data\n",
    "dogs_data = np.vstack((dogs_whisker_length, dogs_ear_flappiness_index)).T\n",
    "cats_data = np.vstack((cats_whisker_length, cats_ear_flappiness_index)).T\n",
    "data = np.vstack((dogs_data, cats_data))\n"
   ]
  },
  {
   "cell_type": "code",
   "execution_count": 39,
   "id": "dcd9f313",
   "metadata": {},
   "outputs": [
    {
     "data": {
      "text/plain": [
       "array([[6.76405235, 8.14404357],\n",
       "       [5.40015721, 9.45427351],\n",
       "       [5.97873798, 8.76103773],\n",
       "       [7.2408932 , 8.12167502],\n",
       "       [6.86755799, 8.44386323],\n",
       "       [4.02272212, 8.33367433],\n",
       "       [5.95008842, 9.49407907],\n",
       "       [4.84864279, 7.79484174],\n",
       "       [4.89678115, 8.3130677 ],\n",
       "       [5.4105985 , 7.14590426]])"
      ]
     },
     "execution_count": 39,
     "metadata": {},
     "output_type": "execute_result"
    }
   ],
   "source": [
    "dogs_data"
   ]
  },
  {
   "cell_type": "code",
   "execution_count": 40,
   "id": "c11c3356",
   "metadata": {},
   "outputs": [
    {
     "data": {
      "text/plain": [
       "array([[ 5.44701018,  5.15494743],\n",
       "       [ 8.6536186 ,  5.37816252],\n",
       "       [ 8.8644362 ,  4.11221425],\n",
       "       [ 7.25783498,  3.01920353],\n",
       "       [10.26975462,  4.65208785],\n",
       "       [ 6.54563433,  5.15634897],\n",
       "       [ 8.04575852,  6.23029068],\n",
       "       [ 7.81281615,  6.20237985],\n",
       "       [ 9.53277921,  4.61267318],\n",
       "       [ 9.46935877,  4.69769725]])"
      ]
     },
     "execution_count": 40,
     "metadata": {},
     "output_type": "execute_result"
    }
   ],
   "source": [
    "cats_data"
   ]
  },
  {
   "cell_type": "code",
   "execution_count": 41,
   "id": "c83cc8fe",
   "metadata": {},
   "outputs": [
    {
     "data": {
      "text/plain": [
       "array([[ 6.76405235,  8.14404357],\n",
       "       [ 5.40015721,  9.45427351],\n",
       "       [ 5.97873798,  8.76103773],\n",
       "       [ 7.2408932 ,  8.12167502],\n",
       "       [ 6.86755799,  8.44386323],\n",
       "       [ 4.02272212,  8.33367433],\n",
       "       [ 5.95008842,  9.49407907],\n",
       "       [ 4.84864279,  7.79484174],\n",
       "       [ 4.89678115,  8.3130677 ],\n",
       "       [ 5.4105985 ,  7.14590426],\n",
       "       [ 5.44701018,  5.15494743],\n",
       "       [ 8.6536186 ,  5.37816252],\n",
       "       [ 8.8644362 ,  4.11221425],\n",
       "       [ 7.25783498,  3.01920353],\n",
       "       [10.26975462,  4.65208785],\n",
       "       [ 6.54563433,  5.15634897],\n",
       "       [ 8.04575852,  6.23029068],\n",
       "       [ 7.81281615,  6.20237985],\n",
       "       [ 9.53277921,  4.61267318],\n",
       "       [ 9.46935877,  4.69769725]])"
      ]
     },
     "execution_count": 41,
     "metadata": {},
     "output_type": "execute_result"
    }
   ],
   "source": [
    "data"
   ]
  },
  {
   "cell_type": "code",
   "execution_count": 42,
   "id": "9ccdea94",
   "metadata": {},
   "outputs": [],
   "source": [
    "labels = np.hstack((np.zeros(len(dogs_data)), np.ones(len(cats_data))))"
   ]
  },
  {
   "cell_type": "code",
   "execution_count": 43,
   "id": "dfd77383",
   "metadata": {},
   "outputs": [
    {
     "data": {
      "text/plain": [
       "array([0., 0., 0., 0., 0., 0., 0., 0., 0., 0., 1., 1., 1., 1., 1., 1., 1.,\n",
       "       1., 1., 1.])"
      ]
     },
     "execution_count": 43,
     "metadata": {},
     "output_type": "execute_result"
    }
   ],
   "source": [
    "labels"
   ]
  },
  {
   "cell_type": "code",
   "execution_count": 44,
   "id": "618038b7",
   "metadata": {},
   "outputs": [],
   "source": [
    "# split data into training and testing sets\n",
    "X_train, X_test, y_train, y_test = train_test_split(data, labels, test_size = 0.2, random_state =42)"
   ]
  },
  {
   "cell_type": "code",
   "execution_count": 45,
   "id": "c1a77731",
   "metadata": {},
   "outputs": [
    {
     "data": {
      "text/plain": [
       "array([[6.76405235, 8.14404357],\n",
       "       [7.81281615, 6.20237985],\n",
       "       [6.54563433, 5.15634897],\n",
       "       [5.40015721, 9.45427351]])"
      ]
     },
     "execution_count": 45,
     "metadata": {},
     "output_type": "execute_result"
    }
   ],
   "source": [
    "X_test"
   ]
  },
  {
   "cell_type": "code",
   "execution_count": 46,
   "id": "884436c3",
   "metadata": {},
   "outputs": [
    {
     "data": {
      "text/plain": [
       "array([[ 4.89678115,  8.3130677 ],\n",
       "       [ 4.02272212,  8.33367433],\n",
       "       [ 8.6536186 ,  5.37816252],\n",
       "       [ 7.2408932 ,  8.12167502],\n",
       "       [ 9.53277921,  4.61267318],\n",
       "       [ 8.04575852,  6.23029068],\n",
       "       [ 7.25783498,  3.01920353],\n",
       "       [ 5.97873798,  8.76103773],\n",
       "       [ 5.4105985 ,  7.14590426],\n",
       "       [ 9.46935877,  4.69769725],\n",
       "       [ 6.86755799,  8.44386323],\n",
       "       [ 8.8644362 ,  4.11221425],\n",
       "       [ 4.84864279,  7.79484174],\n",
       "       [ 5.44701018,  5.15494743],\n",
       "       [10.26975462,  4.65208785],\n",
       "       [ 5.95008842,  9.49407907]])"
      ]
     },
     "execution_count": 46,
     "metadata": {},
     "output_type": "execute_result"
    }
   ],
   "source": [
    "X_train"
   ]
  },
  {
   "cell_type": "code",
   "execution_count": 47,
   "id": "5f501523",
   "metadata": {},
   "outputs": [
    {
     "data": {
      "text/plain": [
       "<function matplotlib.pyplot.show(close=None, block=None)>"
      ]
     },
     "execution_count": 47,
     "metadata": {},
     "output_type": "execute_result"
    },
    {
     "data": {
      "image/png": "[encoded data removed]",
      "text/plain": [
       "<Figure size 640x480 with 1 Axes>"
      ]
     },
     "metadata": {},
     "output_type": "display_data"
    }
   ],
   "source": [
    "#plot the training and test data\n",
    "plt.scatter(X_train[y_train == 0][:,0], X_train[y_train == 0][:,1], label='Training Dogs') \n",
    "plt.scatter(X_train[y_train == 1][:,0], X_train[y_train ==1][:,1], label =' Training Cats')\n",
    "plt.scatter(X_test[:,0], X_test[:,1], c = y_test, cmap ='bwr', label = 'Testing data')\n",
    "plt.xlabel('Whisker Length')\n",
    "plt.ylabel('Ear flappiness index')\n",
    "plt.title('Dog vs Cat Classification using training and testing data')\n",
    "plt.legend()\n",
    "plt.show\n",
    "\n"
   ]
  },
  {
   "cell_type": "code",
   "execution_count": 48,
   "id": "40fc2864",
   "metadata": {},
   "outputs": [],
   "source": [
    "#implementing random linear classifier algorithm\n",
    "def random_linear_classifier(data_dogs,data_cats,k,d):\n",
    "    # d is the number of features \n",
    "    best_error = float('inf')\n",
    "    best_theta = None\n",
    "    best_theta0 = None \n",
    "    \n",
    "    for _ in range (k):\n",
    "        theta = np.random.normal(size=d)\n",
    "        theta0 = np.random.normal()\n",
    "        \n",
    "        error = compute_error(data_dogs,data_cats,theta,theta0)\n",
    "        \n",
    "        if error < best_error:\n",
    "            best_error = error\n",
    "            best_theta = theta\n",
    "            best_theta0 = theta0\n",
    "    return best_theta, best_theta0        \n",
    "        "
   ]
  },
  {
   "cell_type": "code",
   "execution_count": 49,
   "id": "c0c80270",
   "metadata": {},
   "outputs": [],
   "source": [
    "def compute_error(data_dogs, data_cats, theta, theta0):\n",
    "    error = 0\n",
    "    for x_dog in data_dogs:\n",
    "        if np.dot(theta, x_dog) + theta0 <= 0: # hypothesis \n",
    "            error += 1\n",
    "    for x_cat in data_cats:  \n",
    "        if np.dot(theta, x_cat) + theta0 > 0: # hypothesis\n",
    "            error += 1\n",
    "    return error             \n",
    "    "
   ]
  },
  {
   "cell_type": "code",
   "execution_count": 53,
   "id": "500a0b54",
   "metadata": {},
   "outputs": [
    {
     "name": "stdout",
     "output_type": "stream",
     "text": [
      "Best value of k: 100\n"
     ]
    }
   ],
   "source": [
    "# Define function for k-fold cross validation \n",
    "\n",
    "def cross_validate(data_dogs, data_cats, k_values, d, n_splits = 5):\n",
    "    kf = KFold(n_splits=n_splits, shuffle= True, random_state = 42)\n",
    "    avg_errors = []\n",
    "    \n",
    "    for k in k_values:\n",
    "        errors = []\n",
    "        \n",
    "        for train_index, val_index in kf.split(data_dogs, data_cats):\n",
    "            X_train_fold = np.vstack((data_dogs[train_index], data_cats[train_index]))\n",
    "            y_train_fold = np.hstack((np.zeros(len(train_index)), np.ones(len(train_index))))\n",
    "            X_val_fold = np.vstack((data_dogs[val_index], data_cats[val_index]))\n",
    "            y_val_fold = np.hstack((np.zeros(len(val_index)), np.ones(len(val_index))))\n",
    "            \n",
    "            best_theta_fold, best_theta0_fold = random_linear_classifier(X_train_fold[y_train_fold == 0], X_train_fold[y_train_fold == 1], k, d)\n",
    "            errors.append(compute_error(X_val_fold[y_val_fold == 0], X_val_fold[y_val_fold == 1], best_theta_fold, best_theta0_fold))\n",
    "        avg_errors.append(np.mean(errors))\n",
    "    best_k = k_values[np.argmin(avg_errors)]\n",
    "    return best_k\n",
    "\n",
    "# Defining k values \n",
    "\n",
    "k_values = [1, 10, 50, 100, 200, 300, 350]\n",
    "\n",
    "best_k = cross_validate(dogs_data, cats_data, k_values, d = 2)\n",
    "\n",
    "print(f\"Best value of k: {best_k}\")"
   ]
  },
  {
   "cell_type": "code",
   "execution_count": 54,
   "id": "c742f268",
   "metadata": {},
   "outputs": [],
   "source": [
    "# Run random linear classifier algorithm \n",
    "k = 100 #number of iteration \n",
    "d = 2 # number of features \n",
    "best_theta, best_theta0 = random_linear_classifier(dogs_data, cats_data, k, d)"
   ]
  },
  {
   "cell_type": "code",
   "execution_count": 56,
   "id": "1c10c2ae",
   "metadata": {},
   "outputs": [],
   "source": [
    "# plot the decision boundary\n",
    "x_vals = np.linspace(2, 10, 100) \n",
    "y_vals = (-best_theta[0]/best_theta[1])* x_vals - (best_theta0 / best_theta[1])"
   ]
  },
  {
   "cell_type": "code",
   "execution_count": 57,
   "id": "3a55254c",
   "metadata": {},
   "outputs": [
    {
     "data": {
      "image/png": "[encoded data removed]",
      "text/plain": [
       "<Figure size 640x480 with 1 Axes>"
      ]
     },
     "metadata": {},
     "output_type": "display_data"
    }
   ],
   "source": [
    "plt.scatter(dogs_whisker_length, dogs_ear_flappiness_index, label = 'Dogs')\n",
    "plt.scatter(cats_whisker_length, cats_ear_flappiness_index, label ='Cats')\n",
    "plt.plot(x_vals, y_vals, color = 'red', linestyle ='--', label = 'Decision Boundary')\n",
    "plt.xlabel('Whisker Length')\n",
    "plt.ylabel('Ear Flappiness Index')\n",
    "plt.title('Dog vs Cat Classification with Random Linear Classifier')\n",
    "plt.legend()\n",
    "plt.show()\n"
   ]
  }
 ],
 "metadata": {
  "kernelspec": {
   "display_name": "base",
   "language": "python",
   "name": "python3"
  },
  "language_info": {
   "codemirror_mode": {
    "name": "ipython",
    "version": 3
   },
   "file_extension": ".py",
   "mimetype": "text/x-python",
   "name": "python",
   "nbconvert_exporter": "python",
   "pygments_lexer": "ipython3",
   "version": "3.9.13"
  }
 },
 "nbformat": 4,
 "nbformat_minor": 5
}
