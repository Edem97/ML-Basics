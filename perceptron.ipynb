{
 "cells": [
  {
   "cell_type": "code",
   "execution_count": 2,
   "id": "84cab2e6",
   "metadata": {},
   "outputs": [],
   "source": [
    "import numpy as np\n",
    "import matplotlib.pyplot as plt\n",
    "from matplotlib.animation import FuncAnimation"
   ]
  },
  {
   "cell_type": "code",
   "execution_count": 6,
   "id": "643d9980",
   "metadata": {},
   "outputs": [],
   "source": [
    "# Define the positive and negative classes\n",
    "\n",
    "# True Value is +1\n",
    "positive_points = np.array([(-2, 3), (0, 1), (2,-1)])\n",
    "# True Value is -1\n",
    "negative_points = np.array([(-2, 1), (0, -1), (2,-3)])"
   ]
  },
  {
   "cell_type": "code",
   "execution_count": 7,
   "id": "fa3e49f5",
   "metadata": {},
   "outputs": [
    {
     "data": {
      "text/plain": [
       "array([[-2,  3],\n",
       "       [ 0,  1],\n",
       "       [ 2, -1]])"
      ]
     },
     "execution_count": 7,
     "metadata": {},
     "output_type": "execute_result"
    }
   ],
   "source": [
    "positive_points"
   ]
  },
  {
   "cell_type": "code",
   "execution_count": null,
   "id": "fd278946",
   "metadata": {},
   "outputs": [
    {
     "data": {
      "image/png": "[encoded data removed]",
      "text/plain": [
       "<Figure size 800x600 with 1 Axes>"
      ]
     },
     "metadata": {},
     "output_type": "display_data"
    }
   ],
   "source": [
    "# plot initial data points\n",
    "\n",
    "plt.figure(figsize=(8,6))\n",
    "plt.scatter(positive_points[:,0], positive_points[:,1], color = 'blue', marker ='o', label = 'positive class')\n",
    "plt.scatter(negative_points[:,0], negative_points[:,1], color = 'red', marker ='x', label = 'negative class')\n",
    "plt.legend(loc = 'best')\n",
    "plt.xlabel('x1')\n",
    "plt.ylabel('x2')\n",
    "plt.title('Initial Data points')\n",
    "plt.grid(True)\n",
    "plt.show()"
   ]
  },
  {
   "cell_type": "code",
   "execution_count": 10,
   "id": "478055de",
   "metadata": {},
   "outputs": [
    {
     "data": {
      "text/plain": [
       "array([ 1,  1,  1, -1, -1, -1])"
      ]
     },
     "execution_count": 10,
     "metadata": {},
     "output_type": "execute_result"
    }
   ],
   "source": [
    "# combine all dta points and labels\n",
    "x = np.vstack((positive_points, negative_points))\n",
    "y = np.array([1]*len(positive_points) + [-1]*len(negative_points)) \n",
    "x\n",
    "y\n"
   ]
  },
  {
   "cell_type": "code",
   "execution_count": 11,
   "id": "b4c5b523",
   "metadata": {},
   "outputs": [],
   "source": [
    "# perceptron algorithm \n",
    "\n",
    "def perceptron (x, y, steps = 10):\n",
    "    theta = np.zeros(x.shape[1])\n",
    "    theta = 0\n",
    "    for t in range(steps):\n",
    "        for i, xi in enumerate (x):\n",
    "            if y[i] *(np.dot(xi, theta) + theta0) <= 0:\n",
    "                theta += y[i]*xi\n",
    "                theta0 += y[i]\n",
    "                break\n",
    "        #  Plot after each iteration \n",
    "        plot_decision_boundary(theta, theta0, t+1)\n",
    "    return theta, theta0   "
   ]
  },
  {
   "cell_type": "code",
   "execution_count": null,
   "id": "694bdf21",
   "metadata": {},
   "outputs": [],
   "source": [
    "def plot_decision_boundary(theta, theta0, iteration):\n",
    "    plt.figure(figsize = (8,6))\n",
    "    plt.scatter(positive_points[:,0], positive_points[:, 1], color = 'blue', label = 'Positive class')\n",
    "    plt.scatter(negative_points[:,0], negative_points[:, 1], color = 'red', label = 'Negative class')\n",
    "    \n",
    "    # Plot decision boundary \n",
    "    x_values = np.linspace(-3, 3, 2)\n",
    "    # Check for theta[1] to avoid division by zero in case of vertical line\n",
    "    if theta[1] != 0:\n",
    "        y_values = -(theta[0] * x_values + theta0) / theta[1]\n",
    "        plt.plot(x_values, y_values, label = f'Iteration {iteration}')\n",
    "    else:\n",
    "        # plot vertical line\n",
    "        x_val = -theta0/ theta[0]\n",
    "        plt.axvline(x=x_val, label = f'Iteration {iteration}')\n",
    "    \n",
    "    plt.xlim(-3, 3)\n",
    "    plt.ylim(-4,4)\n",
    "    plt.xlabel('x1')\n",
    "    plt.ylabel('x2')\n",
    "    plt.title(f'Decision Boundary at Iteration {iteration}')\n",
    "    plt.legend\n",
    "                     \n",
    "\n",
    "        "
   ]
  }
 ],
 "metadata": {
  "kernelspec": {
   "display_name": "base",
   "language": "python",
   "name": "python3"
  },
  "language_info": {
   "codemirror_mode": {
    "name": "ipython",
    "version": 3
   },
   "file_extension": ".py",
   "mimetype": "text/x-python",
   "name": "python",
   "nbconvert_exporter": "python",
   "pygments_lexer": "ipython3",
   "version": "3.9.13"
  }
 },
 "nbformat": 4,
 "nbformat_minor": 5
}
